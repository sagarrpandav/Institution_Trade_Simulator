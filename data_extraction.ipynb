{
 "cells": [
  {
   "cell_type": "code",
   "execution_count": 28,
   "metadata": {
    "collapsed": true
   },
   "outputs": [],
   "source": [
    "import requests\n",
    "import pandas as pd\n",
    "import time\n",
    "import numpy as np\n",
    "from datetime import timedelta\n",
    "import math"
   ]
  },
  {
   "cell_type": "code",
   "execution_count": 29,
   "outputs": [],
   "source": [
    "dates = [['2020', '2021'], ['2021', '2022'], ['2022', '2023']]\n",
    "months = [['05', '11'], ['12', '04']]\n",
    "currencies = ['EURUSD', 'USDJPY', 'GBPUSD', 'AUDUSD', 'USDCAD', 'USDCNY', 'USDCHF']\n",
    "fx_df = df = pd.DataFrame(columns=[])\n"
   ],
   "metadata": {
    "collapsed": false
   }
  },
  {
   "cell_type": "code",
   "execution_count": 30,
   "outputs": [
    {
     "name": "stdout",
     "output_type": "stream",
     "text": [
      "https://api.polygon.io/v2/aggs/ticker/C:EURUSD/range/1/minute/2020-05-11/2020-11-11?adjusted=true&sort=asc&limit=99999&apiKey=beBybSi8daPgsTp5yx5cHtHpYcrjp5Jq\n",
      "https://api.polygon.io/v2/aggs/ticker/C:EURUSD/range/1/minute/2020-12-11/2021-04-11?adjusted=true&sort=asc&limit=99999&apiKey=beBybSi8daPgsTp5yx5cHtHpYcrjp5Jq\n",
      "https://api.polygon.io/v2/aggs/ticker/C:USDJPY/range/1/minute/2020-05-11/2020-11-11?adjusted=true&sort=asc&limit=99999&apiKey=beBybSi8daPgsTp5yx5cHtHpYcrjp5Jq\n",
      "https://api.polygon.io/v2/aggs/ticker/C:USDJPY/range/1/minute/2020-12-11/2021-04-11?adjusted=true&sort=asc&limit=99999&apiKey=beBybSi8daPgsTp5yx5cHtHpYcrjp5Jq\n",
      "https://api.polygon.io/v2/aggs/ticker/C:GBPUSD/range/1/minute/2020-05-11/2020-11-11?adjusted=true&sort=asc&limit=99999&apiKey=beBybSi8daPgsTp5yx5cHtHpYcrjp5Jq\n",
      "https://api.polygon.io/v2/aggs/ticker/C:GBPUSD/range/1/minute/2020-12-11/2021-04-11?adjusted=true&sort=asc&limit=99999&apiKey=beBybSi8daPgsTp5yx5cHtHpYcrjp5Jq\n",
      "https://api.polygon.io/v2/aggs/ticker/C:AUDUSD/range/1/minute/2020-05-11/2020-11-11?adjusted=true&sort=asc&limit=99999&apiKey=beBybSi8daPgsTp5yx5cHtHpYcrjp5Jq\n",
      "https://api.polygon.io/v2/aggs/ticker/C:AUDUSD/range/1/minute/2020-12-11/2021-04-11?adjusted=true&sort=asc&limit=99999&apiKey=beBybSi8daPgsTp5yx5cHtHpYcrjp5Jq\n",
      "https://api.polygon.io/v2/aggs/ticker/C:USDCAD/range/1/minute/2020-05-11/2020-11-11?adjusted=true&sort=asc&limit=99999&apiKey=beBybSi8daPgsTp5yx5cHtHpYcrjp5Jq\n",
      "https://api.polygon.io/v2/aggs/ticker/C:USDCAD/range/1/minute/2020-12-11/2021-04-11?adjusted=true&sort=asc&limit=99999&apiKey=beBybSi8daPgsTp5yx5cHtHpYcrjp5Jq\n",
      "https://api.polygon.io/v2/aggs/ticker/C:USDCNY/range/1/minute/2020-05-11/2020-11-11?adjusted=true&sort=asc&limit=99999&apiKey=beBybSi8daPgsTp5yx5cHtHpYcrjp5Jq\n",
      "https://api.polygon.io/v2/aggs/ticker/C:USDCNY/range/1/minute/2020-12-11/2021-04-11?adjusted=true&sort=asc&limit=99999&apiKey=beBybSi8daPgsTp5yx5cHtHpYcrjp5Jq\n",
      "https://api.polygon.io/v2/aggs/ticker/C:USDCHF/range/1/minute/2020-05-11/2020-11-11?adjusted=true&sort=asc&limit=99999&apiKey=beBybSi8daPgsTp5yx5cHtHpYcrjp5Jq\n",
      "https://api.polygon.io/v2/aggs/ticker/C:USDCHF/range/1/minute/2020-12-11/2021-04-11?adjusted=true&sort=asc&limit=99999&apiKey=beBybSi8daPgsTp5yx5cHtHpYcrjp5Jq\n",
      "https://api.polygon.io/v2/aggs/ticker/C:EURUSD/range/1/minute/2021-05-11/2021-11-11?adjusted=true&sort=asc&limit=99999&apiKey=beBybSi8daPgsTp5yx5cHtHpYcrjp5Jq\n",
      "https://api.polygon.io/v2/aggs/ticker/C:EURUSD/range/1/minute/2021-12-11/2022-04-11?adjusted=true&sort=asc&limit=99999&apiKey=beBybSi8daPgsTp5yx5cHtHpYcrjp5Jq\n",
      "https://api.polygon.io/v2/aggs/ticker/C:USDJPY/range/1/minute/2021-05-11/2021-11-11?adjusted=true&sort=asc&limit=99999&apiKey=beBybSi8daPgsTp5yx5cHtHpYcrjp5Jq\n",
      "https://api.polygon.io/v2/aggs/ticker/C:USDJPY/range/1/minute/2021-12-11/2022-04-11?adjusted=true&sort=asc&limit=99999&apiKey=beBybSi8daPgsTp5yx5cHtHpYcrjp5Jq\n",
      "https://api.polygon.io/v2/aggs/ticker/C:GBPUSD/range/1/minute/2021-05-11/2021-11-11?adjusted=true&sort=asc&limit=99999&apiKey=beBybSi8daPgsTp5yx5cHtHpYcrjp5Jq\n",
      "https://api.polygon.io/v2/aggs/ticker/C:GBPUSD/range/1/minute/2021-12-11/2022-04-11?adjusted=true&sort=asc&limit=99999&apiKey=beBybSi8daPgsTp5yx5cHtHpYcrjp5Jq\n",
      "https://api.polygon.io/v2/aggs/ticker/C:AUDUSD/range/1/minute/2021-05-11/2021-11-11?adjusted=true&sort=asc&limit=99999&apiKey=beBybSi8daPgsTp5yx5cHtHpYcrjp5Jq\n",
      "https://api.polygon.io/v2/aggs/ticker/C:AUDUSD/range/1/minute/2021-12-11/2022-04-11?adjusted=true&sort=asc&limit=99999&apiKey=beBybSi8daPgsTp5yx5cHtHpYcrjp5Jq\n",
      "https://api.polygon.io/v2/aggs/ticker/C:USDCAD/range/1/minute/2021-05-11/2021-11-11?adjusted=true&sort=asc&limit=99999&apiKey=beBybSi8daPgsTp5yx5cHtHpYcrjp5Jq\n",
      "https://api.polygon.io/v2/aggs/ticker/C:USDCAD/range/1/minute/2021-12-11/2022-04-11?adjusted=true&sort=asc&limit=99999&apiKey=beBybSi8daPgsTp5yx5cHtHpYcrjp5Jq\n",
      "https://api.polygon.io/v2/aggs/ticker/C:USDCNY/range/1/minute/2021-05-11/2021-11-11?adjusted=true&sort=asc&limit=99999&apiKey=beBybSi8daPgsTp5yx5cHtHpYcrjp5Jq\n",
      "https://api.polygon.io/v2/aggs/ticker/C:USDCNY/range/1/minute/2021-12-11/2022-04-11?adjusted=true&sort=asc&limit=99999&apiKey=beBybSi8daPgsTp5yx5cHtHpYcrjp5Jq\n",
      "https://api.polygon.io/v2/aggs/ticker/C:USDCHF/range/1/minute/2021-05-11/2021-11-11?adjusted=true&sort=asc&limit=99999&apiKey=beBybSi8daPgsTp5yx5cHtHpYcrjp5Jq\n",
      "https://api.polygon.io/v2/aggs/ticker/C:USDCHF/range/1/minute/2021-12-11/2022-04-11?adjusted=true&sort=asc&limit=99999&apiKey=beBybSi8daPgsTp5yx5cHtHpYcrjp5Jq\n",
      "https://api.polygon.io/v2/aggs/ticker/C:EURUSD/range/1/minute/2022-05-11/2022-11-11?adjusted=true&sort=asc&limit=99999&apiKey=beBybSi8daPgsTp5yx5cHtHpYcrjp5Jq\n",
      "https://api.polygon.io/v2/aggs/ticker/C:EURUSD/range/1/minute/2022-12-11/2023-04-11?adjusted=true&sort=asc&limit=99999&apiKey=beBybSi8daPgsTp5yx5cHtHpYcrjp5Jq\n",
      "https://api.polygon.io/v2/aggs/ticker/C:USDJPY/range/1/minute/2022-05-11/2022-11-11?adjusted=true&sort=asc&limit=99999&apiKey=beBybSi8daPgsTp5yx5cHtHpYcrjp5Jq\n",
      "https://api.polygon.io/v2/aggs/ticker/C:USDJPY/range/1/minute/2022-12-11/2023-04-11?adjusted=true&sort=asc&limit=99999&apiKey=beBybSi8daPgsTp5yx5cHtHpYcrjp5Jq\n",
      "https://api.polygon.io/v2/aggs/ticker/C:GBPUSD/range/1/minute/2022-05-11/2022-11-11?adjusted=true&sort=asc&limit=99999&apiKey=beBybSi8daPgsTp5yx5cHtHpYcrjp5Jq\n",
      "https://api.polygon.io/v2/aggs/ticker/C:GBPUSD/range/1/minute/2022-12-11/2023-04-11?adjusted=true&sort=asc&limit=99999&apiKey=beBybSi8daPgsTp5yx5cHtHpYcrjp5Jq\n",
      "https://api.polygon.io/v2/aggs/ticker/C:AUDUSD/range/1/minute/2022-05-11/2022-11-11?adjusted=true&sort=asc&limit=99999&apiKey=beBybSi8daPgsTp5yx5cHtHpYcrjp5Jq\n",
      "https://api.polygon.io/v2/aggs/ticker/C:AUDUSD/range/1/minute/2022-12-11/2023-04-11?adjusted=true&sort=asc&limit=99999&apiKey=beBybSi8daPgsTp5yx5cHtHpYcrjp5Jq\n",
      "https://api.polygon.io/v2/aggs/ticker/C:USDCAD/range/1/minute/2022-05-11/2022-11-11?adjusted=true&sort=asc&limit=99999&apiKey=beBybSi8daPgsTp5yx5cHtHpYcrjp5Jq\n",
      "https://api.polygon.io/v2/aggs/ticker/C:USDCAD/range/1/minute/2022-12-11/2023-04-11?adjusted=true&sort=asc&limit=99999&apiKey=beBybSi8daPgsTp5yx5cHtHpYcrjp5Jq\n",
      "https://api.polygon.io/v2/aggs/ticker/C:USDCNY/range/1/minute/2022-05-11/2022-11-11?adjusted=true&sort=asc&limit=99999&apiKey=beBybSi8daPgsTp5yx5cHtHpYcrjp5Jq\n",
      "https://api.polygon.io/v2/aggs/ticker/C:USDCNY/range/1/minute/2022-12-11/2023-04-11?adjusted=true&sort=asc&limit=99999&apiKey=beBybSi8daPgsTp5yx5cHtHpYcrjp5Jq\n",
      "https://api.polygon.io/v2/aggs/ticker/C:USDCHF/range/1/minute/2022-05-11/2022-11-11?adjusted=true&sort=asc&limit=99999&apiKey=beBybSi8daPgsTp5yx5cHtHpYcrjp5Jq\n",
      "https://api.polygon.io/v2/aggs/ticker/C:USDCHF/range/1/minute/2022-12-11/2023-04-11?adjusted=true&sort=asc&limit=99999&apiKey=beBybSi8daPgsTp5yx5cHtHpYcrjp5Jq\n"
     ]
    }
   ],
   "source": [
    "for drange in dates:\n",
    "    for cur in currencies:\n",
    "        time.sleep(0.25)\n",
    "        url = \"https://api.polygon.io/v2/aggs/ticker/C:{}/range/1/minute/{}-05-11/{}-11-11?adjusted=true&sort=asc&limit=99999&apiKey=beBybSi8daPgsTp5yx5cHtHpYcrjp5Jq\".format(\n",
    "            cur, drange[0], drange[0])\n",
    "        print(url)\n",
    "        payload = {}\n",
    "        headers = {}\n",
    "        response = requests.request(\"GET\", url, headers=headers, data=payload)\n",
    "        json_data = response.json()\n",
    "        relevant_data = json_data['results']\n",
    "        tmp_df = pd.DataFrame(relevant_data)\n",
    "        tmp_df['datetime'] = pd.to_datetime(tmp_df['t'], unit='ms')\n",
    "        tmp_df['Currency'] = cur\n",
    "        fx_df = pd.concat([fx_df, tmp_df], ignore_index=True)\n",
    "\n",
    "        time.sleep(0.25)\n",
    "        url = \"https://api.polygon.io/v2/aggs/ticker/C:{}/range/1/minute/{}-12-11/{}-04-11?adjusted=true&sort=asc&limit=99999&apiKey=beBybSi8daPgsTp5yx5cHtHpYcrjp5Jq\".format(\n",
    "            cur, drange[0], drange[1])\n",
    "        print(url)\n",
    "        payload = {}\n",
    "        headers = {}\n",
    "        response = requests.request(\"GET\", url, headers=headers, data=payload)\n",
    "        json_data = response.json()\n",
    "        relevant_data = json_data['results']\n",
    "        tmp_df = pd.DataFrame(relevant_data)\n",
    "        tmp_df['datetime'] = pd.to_datetime(tmp_df['t'], unit='ms')\n",
    "        tmp_df['Currency'] = cur\n",
    "        fx_df = pd.concat([fx_df, tmp_df], ignore_index=True)\n"
   ],
   "metadata": {
    "collapsed": false
   }
  },
  {
   "cell_type": "code",
   "execution_count": 32,
   "outputs": [
    {
     "name": "stderr",
     "output_type": "stream",
     "text": [
      "/var/folders/k1/m5zjfxfs7w3c62s26f_0vxbw0000gn/T/ipykernel_44109/543863497.py:25: SettingWithCopyWarning: \n",
      "A value is trying to be set on a copy of a slice from a DataFrame.\n",
      "Try using .loc[row_indexer,col_indexer] = value instead\n",
      "\n",
      "See the caveats in the documentation: https://pandas.pydata.org/pandas-docs/stable/user_guide/indexing.html#returning-a-view-versus-a-copy\n",
      "  currency_df['price_diff'] = currency_df['c'].diff().shift(-1)\n",
      "/var/folders/k1/m5zjfxfs7w3c62s26f_0vxbw0000gn/T/ipykernel_44109/543863497.py:28: SettingWithCopyWarning: \n",
      "A value is trying to be set on a copy of a slice from a DataFrame\n",
      "\n",
      "See the caveats in the documentation: https://pandas.pydata.org/pandas-docs/stable/user_guide/indexing.html#returning-a-view-versus-a-copy\n",
      "  currency_df.dropna(inplace=True)\n",
      "/var/folders/k1/m5zjfxfs7w3c62s26f_0vxbw0000gn/T/ipykernel_44109/543863497.py:46: FutureWarning: The frame.append method is deprecated and will be removed from pandas in a future version. Use pandas.concat instead.\n",
      "  predictions_df = predictions_df.append({\n",
      "/var/folders/k1/m5zjfxfs7w3c62s26f_0vxbw0000gn/T/ipykernel_44109/543863497.py:25: SettingWithCopyWarning: \n",
      "A value is trying to be set on a copy of a slice from a DataFrame.\n",
      "Try using .loc[row_indexer,col_indexer] = value instead\n",
      "\n",
      "See the caveats in the documentation: https://pandas.pydata.org/pandas-docs/stable/user_guide/indexing.html#returning-a-view-versus-a-copy\n",
      "  currency_df['price_diff'] = currency_df['c'].diff().shift(-1)\n",
      "/var/folders/k1/m5zjfxfs7w3c62s26f_0vxbw0000gn/T/ipykernel_44109/543863497.py:28: SettingWithCopyWarning: \n",
      "A value is trying to be set on a copy of a slice from a DataFrame\n",
      "\n",
      "See the caveats in the documentation: https://pandas.pydata.org/pandas-docs/stable/user_guide/indexing.html#returning-a-view-versus-a-copy\n",
      "  currency_df.dropna(inplace=True)\n",
      "/var/folders/k1/m5zjfxfs7w3c62s26f_0vxbw0000gn/T/ipykernel_44109/543863497.py:46: FutureWarning: The frame.append method is deprecated and will be removed from pandas in a future version. Use pandas.concat instead.\n",
      "  predictions_df = predictions_df.append({\n",
      "/var/folders/k1/m5zjfxfs7w3c62s26f_0vxbw0000gn/T/ipykernel_44109/543863497.py:25: SettingWithCopyWarning: \n",
      "A value is trying to be set on a copy of a slice from a DataFrame.\n",
      "Try using .loc[row_indexer,col_indexer] = value instead\n",
      "\n",
      "See the caveats in the documentation: https://pandas.pydata.org/pandas-docs/stable/user_guide/indexing.html#returning-a-view-versus-a-copy\n",
      "  currency_df['price_diff'] = currency_df['c'].diff().shift(-1)\n",
      "/var/folders/k1/m5zjfxfs7w3c62s26f_0vxbw0000gn/T/ipykernel_44109/543863497.py:28: SettingWithCopyWarning: \n",
      "A value is trying to be set on a copy of a slice from a DataFrame\n",
      "\n",
      "See the caveats in the documentation: https://pandas.pydata.org/pandas-docs/stable/user_guide/indexing.html#returning-a-view-versus-a-copy\n",
      "  currency_df.dropna(inplace=True)\n",
      "/var/folders/k1/m5zjfxfs7w3c62s26f_0vxbw0000gn/T/ipykernel_44109/543863497.py:46: FutureWarning: The frame.append method is deprecated and will be removed from pandas in a future version. Use pandas.concat instead.\n",
      "  predictions_df = predictions_df.append({\n",
      "/var/folders/k1/m5zjfxfs7w3c62s26f_0vxbw0000gn/T/ipykernel_44109/543863497.py:25: SettingWithCopyWarning: \n",
      "A value is trying to be set on a copy of a slice from a DataFrame.\n",
      "Try using .loc[row_indexer,col_indexer] = value instead\n",
      "\n",
      "See the caveats in the documentation: https://pandas.pydata.org/pandas-docs/stable/user_guide/indexing.html#returning-a-view-versus-a-copy\n",
      "  currency_df['price_diff'] = currency_df['c'].diff().shift(-1)\n",
      "/var/folders/k1/m5zjfxfs7w3c62s26f_0vxbw0000gn/T/ipykernel_44109/543863497.py:28: SettingWithCopyWarning: \n",
      "A value is trying to be set on a copy of a slice from a DataFrame\n",
      "\n",
      "See the caveats in the documentation: https://pandas.pydata.org/pandas-docs/stable/user_guide/indexing.html#returning-a-view-versus-a-copy\n",
      "  currency_df.dropna(inplace=True)\n",
      "/var/folders/k1/m5zjfxfs7w3c62s26f_0vxbw0000gn/T/ipykernel_44109/543863497.py:46: FutureWarning: The frame.append method is deprecated and will be removed from pandas in a future version. Use pandas.concat instead.\n",
      "  predictions_df = predictions_df.append({\n",
      "/var/folders/k1/m5zjfxfs7w3c62s26f_0vxbw0000gn/T/ipykernel_44109/543863497.py:25: SettingWithCopyWarning: \n",
      "A value is trying to be set on a copy of a slice from a DataFrame.\n",
      "Try using .loc[row_indexer,col_indexer] = value instead\n",
      "\n",
      "See the caveats in the documentation: https://pandas.pydata.org/pandas-docs/stable/user_guide/indexing.html#returning-a-view-versus-a-copy\n",
      "  currency_df['price_diff'] = currency_df['c'].diff().shift(-1)\n",
      "/var/folders/k1/m5zjfxfs7w3c62s26f_0vxbw0000gn/T/ipykernel_44109/543863497.py:28: SettingWithCopyWarning: \n",
      "A value is trying to be set on a copy of a slice from a DataFrame\n",
      "\n",
      "See the caveats in the documentation: https://pandas.pydata.org/pandas-docs/stable/user_guide/indexing.html#returning-a-view-versus-a-copy\n",
      "  currency_df.dropna(inplace=True)\n",
      "/var/folders/k1/m5zjfxfs7w3c62s26f_0vxbw0000gn/T/ipykernel_44109/543863497.py:46: FutureWarning: The frame.append method is deprecated and will be removed from pandas in a future version. Use pandas.concat instead.\n",
      "  predictions_df = predictions_df.append({\n",
      "/var/folders/k1/m5zjfxfs7w3c62s26f_0vxbw0000gn/T/ipykernel_44109/543863497.py:25: SettingWithCopyWarning: \n",
      "A value is trying to be set on a copy of a slice from a DataFrame.\n",
      "Try using .loc[row_indexer,col_indexer] = value instead\n",
      "\n",
      "See the caveats in the documentation: https://pandas.pydata.org/pandas-docs/stable/user_guide/indexing.html#returning-a-view-versus-a-copy\n",
      "  currency_df['price_diff'] = currency_df['c'].diff().shift(-1)\n",
      "/var/folders/k1/m5zjfxfs7w3c62s26f_0vxbw0000gn/T/ipykernel_44109/543863497.py:28: SettingWithCopyWarning: \n",
      "A value is trying to be set on a copy of a slice from a DataFrame\n",
      "\n",
      "See the caveats in the documentation: https://pandas.pydata.org/pandas-docs/stable/user_guide/indexing.html#returning-a-view-versus-a-copy\n",
      "  currency_df.dropna(inplace=True)\n",
      "/var/folders/k1/m5zjfxfs7w3c62s26f_0vxbw0000gn/T/ipykernel_44109/543863497.py:46: FutureWarning: The frame.append method is deprecated and will be removed from pandas in a future version. Use pandas.concat instead.\n",
      "  predictions_df = predictions_df.append({\n",
      "/var/folders/k1/m5zjfxfs7w3c62s26f_0vxbw0000gn/T/ipykernel_44109/543863497.py:25: SettingWithCopyWarning: \n",
      "A value is trying to be set on a copy of a slice from a DataFrame.\n",
      "Try using .loc[row_indexer,col_indexer] = value instead\n",
      "\n",
      "See the caveats in the documentation: https://pandas.pydata.org/pandas-docs/stable/user_guide/indexing.html#returning-a-view-versus-a-copy\n",
      "  currency_df['price_diff'] = currency_df['c'].diff().shift(-1)\n",
      "/var/folders/k1/m5zjfxfs7w3c62s26f_0vxbw0000gn/T/ipykernel_44109/543863497.py:28: SettingWithCopyWarning: \n",
      "A value is trying to be set on a copy of a slice from a DataFrame\n",
      "\n",
      "See the caveats in the documentation: https://pandas.pydata.org/pandas-docs/stable/user_guide/indexing.html#returning-a-view-versus-a-copy\n",
      "  currency_df.dropna(inplace=True)\n"
     ]
    },
    {
     "name": "stdout",
     "output_type": "stream",
     "text": [
      "  Currency  Long Probability  Short Probability\n",
      "0   EURUSD          0.416667           0.583333\n",
      "1   USDJPY          0.541667           0.458333\n",
      "2   GBPUSD          0.458333           0.541667\n",
      "3   AUDUSD          0.416667           0.583333\n",
      "4   USDCAD          0.416667           0.583333\n",
      "5   USDCNY          0.416667           0.583333\n",
      "6   USDCHF          0.625000           0.375000\n"
     ]
    },
    {
     "name": "stderr",
     "output_type": "stream",
     "text": [
      "/var/folders/k1/m5zjfxfs7w3c62s26f_0vxbw0000gn/T/ipykernel_44109/543863497.py:46: FutureWarning: The frame.append method is deprecated and will be removed from pandas in a future version. Use pandas.concat instead.\n",
      "  predictions_df = predictions_df.append({\n"
     ]
    }
   ],
   "source": [
    "import pandas as pd\n",
    "from sklearn.ensemble import RandomForestRegressor\n",
    "\n",
    "# Load your DataFrame with the relevant columns\n",
    "df = fx_df  # Replace with the path to your DataFrame\n",
    "\n",
    "# Drop rows with NaN values\n",
    "df.dropna(inplace=True)\n",
    "\n",
    "# Define the features and target variables\n",
    "features = ['v', 'vw', 'o', 'c', 'h', 'l']\n",
    "\n",
    "# Initialize the random forest regressor\n",
    "regressor = RandomForestRegressor(n_estimators=100, random_state=42)\n",
    "\n",
    "# Create a new DataFrame to store the predictions\n",
    "predictions_df = pd.DataFrame(columns=['Currency', 'Long Probability', 'Short Probability'])\n",
    "\n",
    "# Iterate over unique currencies\n",
    "for currency in df['Currency'].unique():\n",
    "    # Filter the data for the current currency\n",
    "    currency_df = df[df['Currency'] == currency]\n",
    "\n",
    "    # Calculate the price differences\n",
    "    currency_df['price_diff'] = currency_df['c'].diff().shift(-1)\n",
    "\n",
    "    # Drop the last row which will have NaN price difference\n",
    "    currency_df.dropna(inplace=True)\n",
    "\n",
    "    # Split the data into features and target\n",
    "    X = currency_df[features]\n",
    "    y = currency_df['price_diff']\n",
    "\n",
    "    # Fit the regressor to the data\n",
    "    regressor.fit(X, y)\n",
    "\n",
    "    # Predict the next 24 hours price difference\n",
    "    next_24_hours = df[df['Currency'] == currency].tail(24)[features]\n",
    "    predictions = regressor.predict(next_24_hours)\n",
    "\n",
    "    # Calculate probabilities\n",
    "    long_probs = len(predictions[predictions > 0]) / len(predictions)\n",
    "    short_probs = len(predictions[predictions < 0]) / len(predictions)\n",
    "\n",
    "    # Add the predictions to the DataFrame\n",
    "    predictions_df = predictions_df.append({\n",
    "        'Currency': currency,\n",
    "        'Long Probability': long_probs,\n",
    "        'Short Probability': short_probs\n",
    "    }, ignore_index=True)\n",
    "\n",
    "# Display the predictions\n",
    "print(predictions_df)\n"
   ],
   "metadata": {
    "collapsed": false
   }
  },
  {
   "cell_type": "code",
   "execution_count": 34,
   "outputs": [],
   "source": [
    "predictions_df['diff'] = predictions_df['Long Probability'] - predictions_df['Short Probability']"
   ],
   "metadata": {
    "collapsed": false
   }
  },
  {
   "cell_type": "code",
   "execution_count": 35,
   "outputs": [
    {
     "data": {
      "text/plain": "  Currency  Long Probability  Short Probability      diff\n0   EURUSD          0.416667           0.583333 -0.166667\n1   USDJPY          0.541667           0.458333  0.083333\n2   GBPUSD          0.458333           0.541667 -0.083333\n3   AUDUSD          0.416667           0.583333 -0.166667\n4   USDCAD          0.416667           0.583333 -0.166667\n5   USDCNY          0.416667           0.583333 -0.166667\n6   USDCHF          0.625000           0.375000  0.250000",
      "text/html": "<div>\n<style scoped>\n    .dataframe tbody tr th:only-of-type {\n        vertical-align: middle;\n    }\n\n    .dataframe tbody tr th {\n        vertical-align: top;\n    }\n\n    .dataframe thead th {\n        text-align: right;\n    }\n</style>\n<table border=\"1\" class=\"dataframe\">\n  <thead>\n    <tr style=\"text-align: right;\">\n      <th></th>\n      <th>Currency</th>\n      <th>Long Probability</th>\n      <th>Short Probability</th>\n      <th>diff</th>\n    </tr>\n  </thead>\n  <tbody>\n    <tr>\n      <th>0</th>\n      <td>EURUSD</td>\n      <td>0.416667</td>\n      <td>0.583333</td>\n      <td>-0.166667</td>\n    </tr>\n    <tr>\n      <th>1</th>\n      <td>USDJPY</td>\n      <td>0.541667</td>\n      <td>0.458333</td>\n      <td>0.083333</td>\n    </tr>\n    <tr>\n      <th>2</th>\n      <td>GBPUSD</td>\n      <td>0.458333</td>\n      <td>0.541667</td>\n      <td>-0.083333</td>\n    </tr>\n    <tr>\n      <th>3</th>\n      <td>AUDUSD</td>\n      <td>0.416667</td>\n      <td>0.583333</td>\n      <td>-0.166667</td>\n    </tr>\n    <tr>\n      <th>4</th>\n      <td>USDCAD</td>\n      <td>0.416667</td>\n      <td>0.583333</td>\n      <td>-0.166667</td>\n    </tr>\n    <tr>\n      <th>5</th>\n      <td>USDCNY</td>\n      <td>0.416667</td>\n      <td>0.583333</td>\n      <td>-0.166667</td>\n    </tr>\n    <tr>\n      <th>6</th>\n      <td>USDCHF</td>\n      <td>0.625000</td>\n      <td>0.375000</td>\n      <td>0.250000</td>\n    </tr>\n  </tbody>\n</table>\n</div>"
     },
     "execution_count": 35,
     "metadata": {},
     "output_type": "execute_result"
    }
   ],
   "source": [
    "predictions_df\n"
   ],
   "metadata": {
    "collapsed": false
   }
  },
  {
   "cell_type": "code",
   "execution_count": null,
   "outputs": [],
   "source": [],
   "metadata": {
    "collapsed": false
   }
  }
 ],
 "metadata": {
  "kernelspec": {
   "display_name": "Python 3",
   "language": "python",
   "name": "python3"
  },
  "language_info": {
   "codemirror_mode": {
    "name": "ipython",
    "version": 2
   },
   "file_extension": ".py",
   "mimetype": "text/x-python",
   "name": "python",
   "nbconvert_exporter": "python",
   "pygments_lexer": "ipython2",
   "version": "2.7.6"
  }
 },
 "nbformat": 4,
 "nbformat_minor": 0
}
