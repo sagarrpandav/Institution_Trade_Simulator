{
 "cells": [
  {
   "cell_type": "code",
   "execution_count": 1,
   "outputs": [],
   "source": [
    "import datetime as dt\n",
    "import time"
   ],
   "metadata": {
    "collapsed": false
   }
  },
  {
   "cell_type": "code",
   "execution_count": 2,
   "outputs": [],
   "source": [
    "order_quantity = 10000 # start with 10k units\n",
    "total_order_quantity = 1000000 # the total order quantity\n",
    "current_executed_quantity = 0 # keep track of how many units have been executed so far\n",
    "non_executed_quantity = 0 # keep track of the units that were not executed in the previous window\n",
    "average_execution_price = 0 # initialize the average execution price to 0\n",
    "total_average_execution_price = 0 # initialize the total average execution price to 0\n",
    "\n",
    "# setting the required time frames\n",
    "first_execution_start_time = dt.datetime.now().replace(hour=16, minute=30, second=0, microsecond=0)\n",
    "first_execution_end_time = dt.datetime.now().replace(hour=18, minute=30, second=0, microsecond=0)\n",
    "\n",
    "second_execution_start_time = dt.datetime.now().replace(hour=19, minute=0, second=0, microsecond=0)\n",
    "second_execution_end_time = dt.datetime.now().replace(hour=22, minute=0, second=0, microsecond=0)\n",
    "\n",
    "third_execution_start_time = dt.datetime.now().replace(hour=23, minute=0, second=0, microsecond=0)\n",
    "third_execution_end_time = dt.datetime.now().replace(hour=1, minute=0, second=0, microsecond=0) + dt.timedelta(days=1) # add one day to the end time\n",
    "\n",
    "fourth_execution_start_time = dt.datetime.now().replace(hour=3, minute=0, second=0, microsecond=0) #+ dt.timedelta(days=1) # add one day to the start time\n",
    "fourth_execution_end_time = dt.datetime.now().replace(hour=6, minute=0, second=0, microsecond=0) #+ dt.timedelta(days=1) # add one day to the end time"
   ],
   "metadata": {
    "collapsed": false
   }
  },
  {
   "cell_type": "code",
   "execution_count": 3,
   "outputs": [
    {
     "data": {
      "text/plain": "datetime.datetime(2023, 5, 10, 16, 30)"
     },
     "execution_count": 3,
     "metadata": {},
     "output_type": "execute_result"
    }
   ],
   "source": [
    "first_execution_start_time\n"
   ],
   "metadata": {
    "collapsed": false
   }
  },
  {
   "cell_type": "code",
   "execution_count": 4,
   "outputs": [
    {
     "data": {
      "text/plain": "datetime.datetime(2023, 5, 10, 18, 30)"
     },
     "execution_count": 4,
     "metadata": {},
     "output_type": "execute_result"
    }
   ],
   "source": [
    "first_execution_end_time"
   ],
   "metadata": {
    "collapsed": false
   }
  },
  {
   "cell_type": "code",
   "execution_count": 18,
   "outputs": [],
   "source": [
    "n = (first_execution_end_time - first_execution_start_time)"
   ],
   "metadata": {
    "collapsed": false
   }
  },
  {
   "cell_type": "code",
   "execution_count": 30,
   "outputs": [
    {
     "data": {
      "text/plain": "8"
     },
     "execution_count": 30,
     "metadata": {},
     "output_type": "execute_result"
    }
   ],
   "source": [
    "(n/(60*15)).seconds"
   ],
   "metadata": {
    "collapsed": false
   }
  },
  {
   "cell_type": "code",
   "execution_count": 41,
   "outputs": [],
   "source": [
    "budget = 100000\n",
    "expense = 0\n",
    "execution_sets = [\n",
    "    {'start': 15, 'end': 17, 'amount': 0.2 * budget},\n",
    "    {'start': 19, 'end': 22, 'amount': 0.3 * budget},\n",
    "    {'start': 23, 'end': 1, 'amount': 0.2 * budget},\n",
    "    {'start': 3, 'end': 6, 'amount': 0.3 * budget}\n",
    "]\n",
    "\n",
    "for current_set in execution_sets:\n",
    "    start_hour = current_set['start']\n",
    "    end_hour = current_set['end']\n",
    "    current_set['start'] = dt.datetime.now().replace(hour=start_hour, minute=0, second=0, microsecond=0)\n",
    "    if end_hour < start_hour:\n",
    "        current_set['end'] = dt.datetime.now().replace(hour=current_set['end'], minute=0, second=0,\n",
    "                                                       microsecond=0) + dt.timedelta(days=1)\n",
    "    else:\n",
    "        current_set['end'] = dt.datetime.now().replace(hour=current_set['end'], minute=0, second=0, microsecond=0)\n",
    "    current_set['count'] = ((current_set['end'] - current_set['start']) / (15 * 60)).seconds\n",
    "\n",
    "for current_set in execution_sets:\n",
    "    if current_set['start'] <= dt.datetime.now() <= current_set['end']:\n",
    "        for i in range(current_set['count']):\n",
    "            print(i)\n",
    "            i -= 1\n",
    "    time.sleep(1)\n"
   ],
   "metadata": {
    "collapsed": false
   }
  },
  {
   "cell_type": "code",
   "execution_count": 40,
   "outputs": [
    {
     "data": {
      "text/plain": "[{'start': datetime.datetime(2023, 5, 10, 15, 0),\n  'end': datetime.datetime(2023, 5, 10, 17, 0),\n  'amount': 20000.0,\n  'count': 8},\n {'start': datetime.datetime(2023, 5, 10, 19, 0),\n  'end': datetime.datetime(2023, 5, 10, 22, 0),\n  'amount': 30000.0,\n  'count': 12},\n {'start': datetime.datetime(2023, 5, 10, 23, 0),\n  'end': datetime.datetime(2023, 5, 11, 1, 0),\n  'amount': 20000.0,\n  'count': 8},\n {'start': datetime.datetime(2023, 5, 10, 3, 0),\n  'end': datetime.datetime(2023, 5, 10, 6, 0),\n  'amount': 30000.0,\n  'count': 12}]"
     },
     "execution_count": 40,
     "metadata": {},
     "output_type": "execute_result"
    }
   ],
   "source": [],
   "metadata": {
    "collapsed": false
   }
  },
  {
   "cell_type": "code",
   "execution_count": null,
   "outputs": [],
   "source": [],
   "metadata": {
    "collapsed": false
   }
  }
 ],
 "metadata": {
  "kernelspec": {
   "display_name": "Python 3",
   "language": "python",
   "name": "python3"
  },
  "language_info": {
   "codemirror_mode": {
    "name": "ipython",
    "version": 2
   },
   "file_extension": ".py",
   "mimetype": "text/x-python",
   "name": "python",
   "nbconvert_exporter": "python",
   "pygments_lexer": "ipython2",
   "version": "2.7.6"
  }
 },
 "nbformat": 4,
 "nbformat_minor": 0
}
